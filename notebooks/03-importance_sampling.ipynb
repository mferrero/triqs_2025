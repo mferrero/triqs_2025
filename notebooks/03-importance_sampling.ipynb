{
 "cells": [
  {
   "cell_type": "markdown",
   "metadata": {
    "cell_style": "center",
    "slideshow": {
     "slide_type": "slide"
    }
   },
   "source": [
    "# Importance sampling\n",
    "\n",
    "- Let's try to integrate a generic function $f(x)$. We work in 1D for simplicity and\n",
    "  consider the arbitrary example:\n",
    "\n",
    "  \\begin{equation*}\n",
    "    f(x) =\n",
    "    \\big( 2 + \\sin(x) + 0.8 \\sin(5x) \\big) \\, \\exp \\left(-\\frac{x^2}{2 \\sigma^2} \\right) \\qquad \\text{with} \\quad \\sigma = 1.5\n",
    "  \\end{equation*}"
   ]
  },
  {
   "cell_type": "code",
   "execution_count": null,
   "metadata": {
    "slideshow": {
     "slide_type": "notes"
    }
   },
   "outputs": [],
   "source": [
    "%matplotlib inline\n",
    "%config InlineBackend.figure_format = 'retina'\n",
    "import matplotlib.pyplot as plt\n",
    "import numpy as np\n",
    "import scipy.integrate\n",
    "plt.style.use('style.mpl')"
   ]
  },
  {
   "cell_type": "code",
   "execution_count": null,
   "metadata": {
    "slideshow": {
     "slide_type": "notes"
    }
   },
   "outputs": [],
   "source": [
    "def f(x):\n",
    "    return (2 + np.sin(x) + 0.8*np.sin(5*x)) * np.exp(-0.5*x**2/1.5**2)"
   ]
  },
  {
   "cell_type": "code",
   "execution_count": null,
   "metadata": {
    "tags": [
     "to_remove"
    ]
   },
   "outputs": [],
   "source": [
    "fig, ax = plt.subplots()\n",
    "\n",
    "a, b = -8, 8\n",
    "integral = scipy.integrate.quad(f, a, b)[0]\n",
    "\n",
    "xr = np.linspace(a, b, 1000)\n",
    "ax.plot(xr, f(xr))\n",
    "ax.fill_between(xr, f(xr), 0, color='red', alpha=0.4)\n",
    "ax.grid(alpha=0.3)\n",
    "ax.set_xlabel(\"$x$\")\n",
    "ax.set_ylabel(\"$f(x)$\")\n",
    "ax.text(-6, 2.5, f\"I = {integral:.4f}\");"
   ]
  },
  {
   "cell_type": "markdown",
   "metadata": {
    "cell_style": "center",
    "slideshow": {
     "slide_type": "slide"
    }
   },
   "source": [
    "# Limitations of uniform sampling\n",
    "\n",
    "- We can use uniformly distributed points $x_i$ and compute\n",
    "\n",
    "  \\begin{equation*}\n",
    "  I = \\int_a^b f(x) dx = \\int_{-\\infty}^\\infty \\pi(x) \\frac{f(x)}{\\pi(x)} dx\n",
    "  \\simeq \\frac{1}{N} \\sum_{i=1}^N \\frac{f(x_i)}{\\pi(x_i)}\n",
    "  \\qquad \\pi(x) = \\begin{cases}\n",
    "  1/(b-a) & \\text{if} \\quad a \\le x \\le b\\\\\n",
    "  0 & \\text{otherwise}\n",
    "  \\end{cases}\n",
    "  \\end{equation*}\n",
    "  \n",
    "- Is this a good strategy?"
   ]
  },
  {
   "cell_type": "code",
   "execution_count": null,
   "metadata": {
    "slideshow": {
     "slide_type": "notes"
    }
   },
   "outputs": [],
   "source": [
    "# check result\n",
    "n_points = 2**5\n",
    "points = np.random.uniform(a, b, n_points)\n",
    "res = (b-a) * np.sum(f(points)) / n_points\n",
    "print(f\"Estimate = {res}\")\n",
    "print(f\"Exact = {scipy.integrate.quad(f, a, b)[0]}\")"
   ]
  },
  {
   "cell_type": "markdown",
   "metadata": {
    "slideshow": {
     "slide_type": "slide"
    }
   },
   "source": [
    "- The drawback is that many points sample useless areas"
   ]
  },
  {
   "cell_type": "code",
   "execution_count": null,
   "metadata": {
    "tags": [
     "to_remove"
    ]
   },
   "outputs": [],
   "source": [
    "fig, ax = plt.subplots()\n",
    "\n",
    "xr = np.linspace(a, b, 1000)\n",
    "ax.plot(xr, f(xr))\n",
    "ax.plot(points, 0*points, 'x', color=\"C9\")\n",
    "ax.grid(alpha=0.3)\n",
    "ax.set_xlabel(\"$x$\")\n",
    "ax.set_ylabel(\"$f(x)$\");"
   ]
  },
  {
   "cell_type": "markdown",
   "metadata": {
    "cell_style": "center",
    "slideshow": {
     "slide_type": "slide"
    }
   },
   "source": [
    "# Sampling with other distributions\n",
    "\n",
    "- We are free to use other distributions $\\pi$ to sample the points $x_i$\n",
    "\n",
    "  \\begin{equation*}\n",
    "  I = \\int_{-\\infty}^\\infty f(x) dx = \\int_{-\\infty}^\\infty \\pi(x) \\frac{f(x)}{\\pi(x)} dx\n",
    "  \\simeq \\frac{1}{N} \\sum_{i=1}^N \\frac{f(x_i)}{\\pi(x_i)}\n",
    "  \\end{equation*}\n",
    "\n",
    "- It seems natural to use one that would favour areas where $f(x)$ is large"
   ]
  },
  {
   "cell_type": "markdown",
   "metadata": {
    "slideshow": {
     "slide_type": "slide"
    }
   },
   "source": [
    "- Let's try with a normal distribution of width $\\sigma$"
   ]
  },
  {
   "cell_type": "code",
   "execution_count": null,
   "metadata": {
    "slideshow": {
     "slide_type": "notes"
    }
   },
   "outputs": [],
   "source": [
    "# check result\n",
    "n_points = 2**5\n",
    "σ = 1\n",
    "gauss = lambda x: np.exp(-0.5 * x**2 / σ**2) / σ / np.sqrt(2*np.pi)\n",
    "points = np.random.normal(scale=σ, size=n_points)\n",
    "res = np.sum(f(points) / gauss(points)) / n_points\n",
    "print(f\"Estimate = {res}\")"
   ]
  },
  {
   "cell_type": "code",
   "execution_count": null,
   "metadata": {
    "tags": [
     "to_remove"
    ]
   },
   "outputs": [],
   "source": [
    "fig, ax = plt.subplots()\n",
    "\n",
    "xr = np.linspace(a, b, 1000)\n",
    "ax.plot(xr, f(xr))\n",
    "ax.plot(points, 0*points, 'x', color=\"C9\")\n",
    "ax.plot(xr, integral*gauss(xr), '--', color=\"C9\", label=f\"$\\pi(x)$\")\n",
    "ax.grid(alpha=0.3)\n",
    "ax.set_xlabel(\"$x$\")\n",
    "ax.set_ylabel(\"$f(x)$\")\n",
    "ax.legend();"
   ]
  },
  {
   "cell_type": "markdown",
   "metadata": {
    "cell_style": "center",
    "slideshow": {
     "slide_type": "slide"
    }
   },
   "source": [
    "# Optimal importance sampling\n",
    "\n",
    "- The width $\\sigma$ of the normal distribution is a free parameter\n",
    "\n",
    "- Let's see how different choices for $\\sigma$ change the standard deviation\n"
   ]
  },
  {
   "cell_type": "code",
   "execution_count": null,
   "metadata": {
    "slideshow": {
     "slide_type": "-"
    },
    "tags": [
     "to_remove"
    ]
   },
   "outputs": [],
   "source": [
    "fig, ax = plt.subplots()\n",
    "\n",
    "n_points = 2**10\n",
    "\n",
    "def estimate(σ):\n",
    "    gauss = lambda x: np.exp(-0.5 * x**2 / σ**2) / σ / np.sqrt(2*np.pi)\n",
    "    points = np.random.normal(scale=σ, size=n_points)\n",
    "    return np.sum(f(points) / gauss(points)) / n_points\n",
    "\n",
    "def error(σ):\n",
    "    return np.std([estimate(σ) for i in range(1000)])\n",
    "\n",
    "σ_r = np.linspace(1.0, 3.0, 20)\n",
    "ax.plot(σ_r, np.vectorize(error)(σ_r), '-o')\n",
    "ax.set_xlabel(\"$\\sigma$\")\n",
    "ax.set_ylabel(\"Standard deviation\")\n",
    "ax.set_title(\"Optimizing the distribution\")\n",
    "ax.grid(alpha=0.3)"
   ]
  },
  {
   "cell_type": "markdown",
   "metadata": {
    "cell_style": "center",
    "slideshow": {
     "slide_type": "slide"
    }
   },
   "source": [
    "- For the optimal $\\sigma$ the distribution best captures the areas where the function is large\n",
    "\n",
    "- Ultimately we would want to have a distribution as close to $f(x)$ as possible"
   ]
  },
  {
   "cell_type": "code",
   "execution_count": null,
   "metadata": {
    "tags": [
     "to_remove"
    ]
   },
   "outputs": [],
   "source": [
    "fig, ax = plt.subplots()\n",
    "\n",
    "σ = 1.5\n",
    "xr = np.linspace(a, b, 1000)\n",
    "ax.plot(xr, f(xr))\n",
    "ax.plot(xr, integral*gauss(xr), '--', color=\"C9\", label=f\"$\\sigma = {σ}$\")\n",
    "ax.grid(alpha=0.3)\n",
    "ax.legend();"
   ]
  },
  {
   "cell_type": "markdown",
   "metadata": {
    "cell_style": "center",
    "slideshow": {
     "slide_type": "slide"
    }
   },
   "source": [
    "# Summary\n",
    "\n",
    "- Importance sampling can be seen as a **variance reduction** technique.\n",
    "\n",
    "- Better results are obtained when points are sampled according to a distribution that\n",
    "  is close to the function $f(x)$.\n",
    "\n",
    "- We need to be able to sample **arbitrary probability distributions**."
   ]
  },
  {
   "cell_type": "markdown",
   "metadata": {
    "slideshow": {
     "slide_type": "slide"
    }
   },
   "source": [
    "# Outline\n",
    "    \n",
    "- [Introduction to Monte Carlo](01-intro_monte_carlo.slides.html)\n",
    "\n",
    "- [Newton–Cotes quadrature](02-newton_cotes.slides.html)\n",
    "  \n",
    "- [Importance sampling](03-importance_sampling.slides.html)\n",
    "\n",
    "- [Direct sampling methods](04-direct_sampling.slides.html)\n",
    "\n",
    "- [Markov chain sampling and balance condition](05-markov_chain.slides.html)\n",
    "\n",
    "- [Metropolis-Hastings algorithm](06-metropolis_hastings.slides.html)\n",
    "\n",
    "- [The two-dimensional Ising model](07-ising.slides.html)\n",
    "\n",
    "- [Error bar analysis](08-error_analysis.slides.html)\n",
    "  \n",
    "- [References](09-references.slides.html)"
   ]
  }
 ],
 "metadata": {
  "kernelspec": {
   "display_name": "Python 3 (ipykernel)",
   "language": "python",
   "name": "python3"
  },
  "language_info": {
   "codemirror_mode": {
    "name": "ipython",
    "version": 3
   },
   "file_extension": ".py",
   "mimetype": "text/x-python",
   "name": "python",
   "nbconvert_exporter": "python",
   "pygments_lexer": "ipython3",
   "version": "3.9.6"
  }
 },
 "nbformat": 4,
 "nbformat_minor": 4
}
