{
 "cells": [
  {
   "cell_type": "markdown",
   "metadata": {
    "slideshow": {
     "slide_type": "slide"
    }
   },
   "source": [
    "# Newton-Cotes rules for integration\n",
    "\n",
    "- We briefly discuss the *simplest* integration of a function from an evaluation of the\n",
    "  integrand at equally spaced points.\n",
    "\n",
    "- We want to integrate $f(x)$ in the interval $[a,b]$ with $N$ points, $\\Delta = (b-a)/N$.\n",
    "\n",
    "&nbsp;\n",
    "<center><img src=\"figures/nc_integration.png\"/></center>"
   ]
  },
  {
   "cell_type": "code",
   "execution_count": null,
   "metadata": {
    "slideshow": {
     "slide_type": "notes"
    }
   },
   "outputs": [],
   "source": [
    "%matplotlib inline\n",
    "%config InlineBackend.figure_format = 'retina'\n",
    "import matplotlib.pyplot as plt\n",
    "import numpy as np\n",
    "import scipy.special\n",
    "plt.style.use('style.mpl')"
   ]
  },
  {
   "cell_type": "markdown",
   "metadata": {
    "slideshow": {
     "slide_type": "slide"
    }
   },
   "source": [
    "## Rectangular\n",
    "\n",
    "\\begin{equation*}\n",
    "\\int_a^b f(x) dx = \\Delta \\sum_{j=0}^{N-1} f \\left( a + j \\Delta \\right) + \\mathcal{O}\\left(\\frac{1}{N}\\right). \n",
    "\\end{equation*}\n",
    "\n",
    "## Trapezoidal\n",
    "\n",
    "\\begin{equation*}\n",
    "\\int_a^b f(x) dx = \\Delta \\left [\\frac{1}{2}f(a) +  \\sum_{j=1}^{N-1}\n",
    "f\\left(a + j \\Delta \\right) +\\frac{1}{2}f(b)\\right] + \\mathcal{O}\\left(\\frac{1}{N^2}\\right). \n",
    "\\end{equation*}\n",
    "\n",
    "## Simpson\n",
    "\n",
    "\\begin{equation*}\n",
    "\\int_a^b f(x) dx = \\frac{\\Delta}{3} \\left \\{ f(a) +  \\sum_{j=1}^{N-1}\\left[3-(-1)^j\\right]\n",
    "f\\left(a + j \\Delta \\right) +f(b)\\right\\} + \\mathcal{O}\\left(\\frac{1}{N^4}\\right). \n",
    "\\end{equation*}"
   ]
  },
  {
   "cell_type": "markdown",
   "metadata": {
    "slideshow": {
     "slide_type": "notes"
    }
   },
   "source": [
    "Here is an implementation of these schemes"
   ]
  },
  {
   "cell_type": "code",
   "execution_count": null,
   "metadata": {
    "slideshow": {
     "slide_type": "notes"
    }
   },
   "outputs": [],
   "source": [
    "def quadrature(f, a, b, N, *params, method='simpson'):\n",
    "    '''Newton-Cotes methods for numerical integration of f(x) over x.'''\n",
    "    \n",
    "    x, Δx = np.linspace(a, b, N, retstep=True)\n",
    "    fx = np.array([f(v, *params) for v in x])\n",
    "    \n",
    "    if method == 'rectangular':\n",
    "        I = np.sum(fx)\n",
    "        \n",
    "    if method == 'trapezoidal':\n",
    "        I = 0.5 * (fx[0] + fx[N-1])\n",
    "        I += np.sum(fx[1:N-1])\n",
    "        \n",
    "    elif method == 'simpson':\n",
    "        assert(N%2 == 1)\n",
    "        I = (fx[0] + fx[N-1]) / 3.0\n",
    "        I += (4/3) * np.sum(fx[1:N:2])\n",
    "        I += (2/3) * np.sum(fx[2:N-1:2])\n",
    "        \n",
    "    return Δx * I"
   ]
  },
  {
   "cell_type": "markdown",
   "metadata": {
    "slideshow": {
     "slide_type": "notes"
    }
   },
   "source": [
    "Let's use Simpson's rule to evaluate the $\\mathrm{erf}(1/2)$ where \n",
    "\n",
    "\\begin{equation*}\n",
    "\\mathrm{erf}(x) = \\frac{2}{\\sqrt{\\pi}} \\int_0^x \\mathrm{e}^{-t^2} dt \n",
    "\\end{equation*}"
   ]
  },
  {
   "cell_type": "code",
   "execution_count": null,
   "metadata": {
    "slideshow": {
     "slide_type": "notes"
    }
   },
   "outputs": [],
   "source": [
    "def erf_kernel(t):\n",
    "    '''The error function kernel'''\n",
    "    return  (2.0/np.sqrt(np.pi)) * np.exp(-t**2)"
   ]
  },
  {
   "cell_type": "code",
   "execution_count": null,
   "metadata": {
    "slideshow": {
     "slide_type": "notes"
    }
   },
   "outputs": [],
   "source": [
    "# check quadrature rules\n",
    "res = quadrature(erf_kernel, 0, 0.5, 2**12+1, method='simpson')\n",
    "exact = scipy.special.erf(0.5)\n",
    "\n",
    "print(f'Simpson -> {res:18.16f}')\n",
    "print(f'Scipy   -> {exact:18.16}')"
   ]
  },
  {
   "cell_type": "markdown",
   "metadata": {
    "slideshow": {
     "slide_type": "slide"
    }
   },
   "source": [
    "# Error in Newton-Cotes methods\n",
    "\n",
    "- Difference between exact result and quadrature with $N$ points\n",
    "  for\n",
    "  \\begin{equation*}\n",
    "    \\frac{2}{\\sqrt{\\pi}} \\int_0^{1/2} \\mathrm{e}^{-t^2} dt\n",
    "  \\end{equation*}"
   ]
  },
  {
   "cell_type": "code",
   "execution_count": null,
   "metadata": {
    "cell_style": "center",
    "slideshow": {
     "slide_type": "-"
    },
    "tags": [
     "to_remove"
    ]
   },
   "outputs": [],
   "source": [
    "# see behavior of error versus N\n",
    "\n",
    "exact = scipy.special.erf(0.5)\n",
    "power_range = np.arange(2, 12)\n",
    "\n",
    "for k, met in enumerate(['rectangular', 'trapezoidal', 'simpson']):\n",
    "    \n",
    "    error = np.zeros_like(power_range, dtype=float)\n",
    "    n_points = np.zeros_like(power_range)\n",
    "\n",
    "    for i, power in enumerate(power_range):\n",
    "\n",
    "        N = 2**power + 1\n",
    "        res = quadrature(erf_kernel, 0, 0.5, N, method=met)\n",
    "\n",
    "        n_points[i] = N\n",
    "        error[i] = np.abs(exact - res)\n",
    "\n",
    "    plt.loglog(n_points, error, '-o', label=f\"{met} $\\sim 1 / N^{2**k}$\")\n",
    "\n",
    "\n",
    "plt.xlabel(\"$N$\")\n",
    "plt.ylabel(\"Error\")\n",
    "plt.legend();"
   ]
  },
  {
   "cell_type": "markdown",
   "metadata": {
    "slideshow": {
     "slide_type": "slide"
    }
   },
   "source": [
    "# What happens in higher dimensions?\n",
    "\n",
    "- A method of order $k$ has an error $\\sim 1 / N^k$.\n",
    "\n",
    "- For example, Simpson's method is order $k=4$.\n",
    "\n",
    "- This is OK in 1 dimension. But what about $d$ dimensions?\n",
    "\n",
    "  \\begin{equation*}\n",
    "  I = \\int_{\\Omega} d^d x\\, f(\\mathbf{x}) = \\int dx_1 \\int dx_2 \\cdots \\int dx_d\\, f(\\mathbf{x}).\n",
    "  \\end{equation*}\n",
    "  \n",
    "- We need $M$ points in every dimension for a total of $N = M^d$ points.\n",
    "\n",
    "- The error $\\sim 1/M^k$.\n",
    "\n",
    "<div class=\"alert alert-block alert-danger\">\n",
    "<center>\n",
    "For an order-$k$ scheme in $d$ dimensions, the error $\\sim 1 / N^{k/d}$. This is not great...\n",
    "</center>\n",
    "</div>"
   ]
  },
  {
   "cell_type": "markdown",
   "metadata": {
    "slideshow": {
     "slide_type": "slide"
    }
   },
   "source": [
    "# What about a Monte Carlo approach?\n",
    "\n",
    "- Let's take our pebbles: every throw is described by a random variable $x_i$\n",
    "\n",
    "  \\begin{equation*}\n",
    "   \\langle x_i \\rangle = \\frac{\\pi}{4} \\cdot 4 + \\left( 1 - \\frac{\\pi}{4} \\right) \\cdot 0 = \\pi \\qquad\n",
    "   \\langle x^2_i \\rangle = 4\\pi \\qquad\n",
    "   \\sigma = \\sqrt{4\\pi-\\pi^2}\n",
    "  \\end{equation*}\n",
    "\n",
    "- Empirical average $X$\n",
    "\n",
    "  \\begin{equation*}\n",
    "    X = \\frac{1}{N} \\sum_{i=1}^N x_i \\qquad\n",
    "    \\langle X \\rangle = \\frac{1}{N} \\sum_{i=1}^N \\langle x_i \\rangle = \\pi\n",
    "  \\end{equation*}\n",
    "\n",
    "- What is the standart deviation on the empirical average?\n",
    "\n",
    "  \\begin{equation*}\n",
    "   \\langle X^2 \\rangle - \\langle X \\rangle^2 =\n",
    "   \\frac{1}{N^2} \\sum_{i,j=1}^N \\langle x_i x_j \\rangle - \\frac{1}{N^2} \\sum_{i,j} \\langle x_i \\rangle \\langle x_j \\rangle \n",
    "   = \\frac{1}{N} \\sigma^2 \\Rightarrow \\quad \\boxed{\\sigma_X\n",
    "   = \\frac{\\sigma}{\\sqrt{N}}}\n",
    "  \\end{equation*}\n",
    "\n",
    "<div class=\"alert alert-block alert-info\">\n",
    "<center>\n",
    "Monte Carlo approaches have an error $\\sim 1 / \\sqrt{N}$ in any dimension!\n",
    "</center>\n",
    "</div>"
   ]
  },
  {
   "cell_type": "markdown",
   "metadata": {
    "slideshow": {
     "slide_type": "slide"
    }
   },
   "source": [
    "# Outline\n",
    "    \n",
    "- [Introduction to Monte Carlo](01-intro_monte_carlo.slides.html)\n",
    "\n",
    "- [Newton–Cotes quadrature](02-newton_cotes.slides.html)\n",
    "  \n",
    "- [Importance sampling](03-importance_sampling.slides.html)\n",
    "\n",
    "- [Direct sampling methods](04-direct_sampling.slides.html)\n",
    "\n",
    "- [Markov chain sampling and balance condition](05-markov_chain.slides.html)\n",
    "\n",
    "- [Metropolis-Hastings algorithm](06-metropolis_hastings.slides.html)\n",
    "\n",
    "- [The two-dimensional Ising model](07-ising.slides.html)\n",
    "\n",
    "- [Error bar analysis](08-error_analysis.slides.html)\n",
    "  \n",
    "- [References](09-references.slides.html)"
   ]
  }
 ],
 "metadata": {
  "kernelspec": {
   "display_name": "Python 3 (ipykernel)",
   "language": "python",
   "name": "python3"
  },
  "language_info": {
   "codemirror_mode": {
    "name": "ipython",
    "version": 3
   },
   "file_extension": ".py",
   "mimetype": "text/x-python",
   "name": "python",
   "nbconvert_exporter": "python",
   "pygments_lexer": "ipython3",
   "version": "3.9.6"
  }
 },
 "nbformat": 4,
 "nbformat_minor": 4
}
