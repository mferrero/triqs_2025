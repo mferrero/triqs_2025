{
 "cells": [
  {
   "cell_type": "markdown",
   "metadata": {
    "cell_style": "center",
    "slideshow": {
     "slide_type": "slide"
    }
   },
   "source": [
    "# The two-dimensional Ising model\n",
    "\n",
    "- The Hamiltonian of the Ising model is\n",
    "\n",
    "  \\begin{equation*}\n",
    "    \\mathcal{H} = -J \\sum_{\\langle i, j \\rangle} \\sigma_i \\, \\sigma_j\n",
    "  \\end{equation*}\n",
    "  \n",
    "  where $\\sigma_i = \\pm 1$ is a spin living on the site $i$ of a periodic square\n",
    "  lattice with $N = L \\times L$ sites. We will consider a ferromagnetic coupling\n",
    "  and set our unit of energy $J=1$.\n",
    "\n",
    "\n",
    "- We will be interested in computing the energy and the magnetization at a given\n",
    "  temperature $T = 1/\\beta$\n",
    "  \n",
    "  \\begin{equation*}\n",
    "    \\langle \\mathcal{O} \\rangle = \\frac{1}{Z} \\sum_{\\sigma} e^{-\\beta E(\\sigma)} \\, \\mathcal{O}(\\sigma)\n",
    "    \\qquad \\text{where} \\quad \\mathcal{O} = E, m\n",
    "  \\end{equation*}\n",
    "  \n",
    "- The sum is over all spin configurations $\\sigma = \\{\\sigma_1, \\ldots, \\sigma_N\\}$. This is a total\n",
    "  of $2^N$ terms which quickly becomes intractable."
   ]
  },
  {
   "cell_type": "code",
   "execution_count": null,
   "metadata": {
    "slideshow": {
     "slide_type": "notes"
    }
   },
   "outputs": [],
   "source": [
    "%matplotlib inline\n",
    "%config InlineBackend.figure_format = 'retina'\n",
    "import matplotlib.pyplot as plt\n",
    "import numpy as np\n",
    "np.random.seed(29387)\n",
    "plt.style.use('style.mpl')"
   ]
  },
  {
   "cell_type": "markdown",
   "metadata": {
    "cell_style": "center",
    "slideshow": {
     "slide_type": "slide"
    }
   },
   "source": [
    "# A Monte Carlo approach\n",
    "\n",
    "- We need to compute\n",
    "  \\begin{equation*}\n",
    "    \\langle \\mathcal{O} \\rangle = \\frac{\\sum_{\\sigma} e^{-\\beta E(\\sigma)} \\mathcal{O}(\\sigma)}\n",
    "    {\\sum_{\\sigma} e^{-\\beta E(\\sigma)}}\n",
    "  \\end{equation*}\n",
    "\n",
    "- It seems very natural to try to compute these integrals using the Boltzmann probability\n",
    "\n",
    "  \\begin{equation*}\n",
    "    \\pi(\\sigma) = \\frac{e^{-\\beta E(\\sigma)}}{Z} \\quad \\to \\quad\n",
    "    \\langle \\mathcal{O} \\rangle = \\frac{\\sum_{\\sigma} \\pi(\\sigma) \\, \\mathcal{O}(\\sigma) Z}\n",
    "    {\\sum_{\\sigma} \\pi(\\sigma) \\, Z}\n",
    "    = \\frac{\\sum_{\\sigma} \\pi(\\sigma) \\, \\mathcal{O}(\\sigma)}\n",
    "    {\\sum_{\\sigma} \\pi(\\sigma)} \\simeq\n",
    "    \\frac{\\sum_\\sigma^\\mathrm{MC} \\mathcal{O}(\\sigma)}{\\sum_\\sigma^\\mathrm{MC} 1}\n",
    "  \\end{equation*}\n",
    "  \n",
    "- We got lucky: we do not know how to normalize the Boltzmann probability. But this normalization\n",
    "  constant cancels in the fraction.\n",
    "  \n",
    "- $\\sum^\\mathrm{MC}_\\sigma$ means a sum over samples $\\sigma$ distributed according to\n",
    "  $\\pi(\\sigma)$. Because the distribution is the same in the numerator and denominator,\n",
    "  we can compute both sums **from the same samples**.\n",
    "  \n",
    "- We can use Metropolis-Hastings to sample $\\pi(\\sigma)$."
   ]
  },
  {
   "cell_type": "markdown",
   "metadata": {
    "cell_style": "center",
    "slideshow": {
     "slide_type": "slide"
    }
   },
   "source": [
    "# Metropolis-Hastings algorithm\n",
    "\n",
    "- We have to choose our proposal probability $T(\\sigma \\to \\sigma')$.\n",
    "\n",
    "- A possible choice is to pick a random site $i$ and flip $\\sigma_i$\n",
    "\n",
    "  \\begin{equation*}\n",
    "  T(\\sigma \\to \\sigma') = \\begin{cases}\n",
    "  1/N & \\text{if $\\sigma$ and $\\sigma'$ differ by a single spin flip} \\\\\n",
    "  0 & \\text{otherwise}\n",
    "  \\end{cases}\n",
    "  \\end{equation*}\n",
    "  \n",
    "- Acceptance probability\n",
    "\n",
    "  \\begin{equation*}\n",
    "    A(\\sigma \\to \\sigma') =\n",
    "    \\min \\left( 1, \\frac{\\pi(\\sigma')}{\\pi(\\sigma)} \\right) =\n",
    "    \\min \\left( 1, \\frac{e^{-\\beta E(\\sigma')}}{e^{-\\beta E(\\sigma)}} \\right)\n",
    "    = \\min \\left( 1, e^{-\\beta \\Delta E} \\right)\n",
    "  \\end{equation*}\n",
    "  \n",
    "- Again only a ratio of $\\pi$'s appears and $Z$ cancels out.\n",
    "  \n",
    "- We only need to compute $\\Delta E$. Because the change is local, this calculation\n",
    "  is quick."
   ]
  },
  {
   "cell_type": "markdown",
   "metadata": {
    "slideshow": {
     "slide_type": "slide"
    }
   },
   "source": [
    "# Implementation\n",
    "\n",
    "&nbsp;\n",
    "<center><img src=\"figures/monte_carlo_loop.png\" width=700px/></center>"
   ]
  },
  {
   "cell_type": "code",
   "execution_count": null,
   "metadata": {
    "slideshow": {
     "slide_type": "slide"
    }
   },
   "outputs": [],
   "source": [
    "def initialize(L):\n",
    "    σ = np.random.choice([-1,1], size=(L,L))\n",
    "    return σ\n",
    "\n",
    "def monte_carlo_step(σ, β):\n",
    "    \n",
    "    L = σ.shape[0]\n",
    "\n",
    "    # try L^2 flips\n",
    "    for i in range(L**2):\n",
    "        \n",
    "        k, l = np.random.randint(L, size=2) # pick a site   \n",
    "        ΔE = 2 * σ[k,l] * (σ[(k+1)%L,l] + σ[(k-1)%L,l] + σ[k,(l+1)%L] + σ[k,(l-1)%L])\n",
    "\n",
    "        # accept the flip\n",
    "        if np.random.rand() < np.exp(-β * ΔE):\n",
    "            σ[k,l] *= -1\n",
    "            \n",
    "    return σ"
   ]
  },
  {
   "cell_type": "code",
   "execution_count": null,
   "metadata": {
    "slideshow": {
     "slide_type": "slide"
    }
   },
   "outputs": [],
   "source": [
    "fig, ax = plt.subplots(2, 5, figsize=(8,4))\n",
    "for i, β in enumerate([0.1, 1.5]):\n",
    "    \n",
    "    σ = initialize(32)\n",
    "    for j in range(5):\n",
    "        \n",
    "        ax[i,j].matshow(σ)\n",
    "        ax[i,j].set_xticks([]);\n",
    "        ax[i,j].set_yticks([]);\n",
    "        if i==1: ax[i,j].text(14, 36, f\"step = {j*5}\", fontsize=10)\n",
    "        if j==4: ax[i,j].text(36, 16, fr'$\\beta = {β}$')\n",
    "            \n",
    "        for k in range(5):\n",
    "            monte_carlo_step(σ, β)\n",
    "        \n",
    "fig.tight_layout(h_pad=-2.5, w_pad=0.5)"
   ]
  },
  {
   "cell_type": "markdown",
   "metadata": {
    "slideshow": {
     "slide_type": "slide"
    }
   },
   "source": [
    "# Computing observables\n",
    "\n",
    "- We can compute the energy and the magnetization"
   ]
  },
  {
   "cell_type": "code",
   "execution_count": null,
   "metadata": {
    "slideshow": {
     "slide_type": "-"
    }
   },
   "outputs": [],
   "source": [
    "def compute_energy(σ):\n",
    "    L = σ.shape[0]\n",
    "    E = 0\n",
    "    for k in range(L):\n",
    "        for l in range(L):\n",
    "            E -= σ[k,l] * (σ[(k+1)%L,l] + σ[k,(l+1)%L])\n",
    "    return E / L**2\n",
    "            \n",
    "def compute_magnetization(σ):\n",
    "    L = σ.shape[0]\n",
    "    return np.sum(σ) / L**2"
   ]
  },
  {
   "cell_type": "code",
   "execution_count": null,
   "metadata": {
    "slideshow": {
     "slide_type": "slide"
    }
   },
   "outputs": [],
   "source": [
    "# A single Monte Carlo run\n",
    "n_samples = 2**10\n",
    "energies = np.zeros(n_samples)\n",
    "magnetizations = np.zeros(n_samples)\n",
    "\n",
    "L = 8\n",
    "T = 2.0\n",
    "β = 1 / T\n",
    "σ = initialize(L)\n",
    "\n",
    "# MC simulation\n",
    "for k in range(n_samples):\n",
    "    \n",
    "    monte_carlo_step(σ, β)\n",
    "    energies[k] = compute_energy(σ)\n",
    "    magnetizations[k] = compute_magnetization(σ)"
   ]
  },
  {
   "cell_type": "code",
   "execution_count": null,
   "metadata": {
    "slideshow": {
     "slide_type": "slide"
    },
    "tags": [
     "to_remove"
    ]
   },
   "outputs": [],
   "source": [
    "fig, ax = plt.subplots(2, 1, figsize=(8,8))\n",
    "\n",
    "ax[0].plot(energies, alpha=0.4, label=\"configuration\")\n",
    "ax[0].plot(np.cumsum(energies) / np.arange(1,n_samples+1), '-r', label=\"running average\")\n",
    "ax[0].set_title(\"Energy\")\n",
    "ax[0].set_xlabel(\"MC steps\")\n",
    "ax[0].legend(frameon=True, framealpha=0.95)\n",
    "\n",
    "ax[1].plot(magnetizations, alpha=0.4, label=\"configuration\")\n",
    "ax[1].plot(np.cumsum(magnetizations) / np.arange(1,n_samples+1), '-r', label=\"running average\")\n",
    "ax[1].set_title(\"Magnetization\")\n",
    "ax[1].set_xlabel(\"MC steps\")\n",
    "ax[1].legend(frameon=True, framealpha=0.95)\n",
    "\n",
    "plt.subplots_adjust(hspace=0.5)"
   ]
  },
  {
   "cell_type": "code",
   "execution_count": null,
   "metadata": {
    "slideshow": {
     "slide_type": "slide"
    }
   },
   "outputs": [],
   "source": [
    "# Compute several temperatures\n",
    "Tr = np.linspace(1, 3, 10)[::-1]\n",
    "n_T = Tr.size\n",
    "L = 8\n",
    "σ = initialize(L)\n",
    "\n",
    "n_samples = 2**11\n",
    "n_warmup = 200\n",
    "energies = np.zeros([n_samples, n_T])\n",
    "magnetizations = np.zeros([n_samples, n_T])\n",
    "\n",
    "for i, T in enumerate(Tr):\n",
    "    \n",
    "    β = 1 / T\n",
    "    for k in range(n_samples + n_warmup):\n",
    "\n",
    "        # MC moves\n",
    "        monte_carlo_step(σ, β)\n",
    "\n",
    "        # measure after thermalization\n",
    "        if k >= n_warmup:\n",
    "            energies[k-n_warmup, i] = compute_energy(σ)\n",
    "            magnetizations[k-n_warmup, i] = compute_magnetization(σ)"
   ]
  },
  {
   "cell_type": "code",
   "execution_count": null,
   "metadata": {
    "slideshow": {
     "slide_type": "slide"
    },
    "tags": [
     "to_remove"
    ]
   },
   "outputs": [],
   "source": [
    "fig, ax = plt.subplots(2, 1, figsize=(8,8))\n",
    "\n",
    "for i, T in enumerate(Tr[::-1]):\n",
    "    ax[0].plot(np.cumsum(energies[:,-i-1]) / np.arange(1,n_samples+1), '-', label=f\"T = {T:.2f}\")\n",
    "ax[0].set_title(\"Energy\")\n",
    "ax[0].set_xlabel(\"MC steps\")\n",
    "ax[0].legend(fontsize=10, bbox_to_anchor=(1,1))\n",
    "\n",
    "for i, T in enumerate(Tr[::-1]):\n",
    "    ax[1].plot(np.cumsum(magnetizations[:,-i-1]) / np.arange(1,n_samples+1), '-', label=f\"T = {T:.2f}\")\n",
    "ax[1].set_title(\"Magnetization\")\n",
    "ax[1].set_xlabel(\"MC steps\")\n",
    "ax[1].legend(fontsize=10, bbox_to_anchor=(1,1))\n",
    "\n",
    "plt.subplots_adjust(hspace=0.5)"
   ]
  },
  {
   "cell_type": "code",
   "execution_count": null,
   "metadata": {
    "slideshow": {
     "slide_type": "slide"
    }
   },
   "outputs": [],
   "source": [
    "fig, ax = plt.subplots()\n",
    "\n",
    "m = np.average(magnetizations, axis=0)\n",
    "σₘ = np.std(magnetizations, axis=0) / np.sqrt(n_samples) # Danger!\n",
    "\n",
    "ax.errorbar(Tr, np.abs(m), yerr=σₘ, marker='x', markersize=4, label=f\"MC ${L} \\\\times {L}$\")\n",
    "ax.axvline(2.0/np.log(1.0+np.sqrt(2.0)), color='gray', linestyle='--', label=\"Onsager\")\n",
    "ax.set_title(\"Magnetization\")\n",
    "ax.set_xlabel(\"$T$\")\n",
    "ax.set_ylabel(\"$m$\")\n",
    "ax.grid(alpha=0.2)\n",
    "ax.legend();"
   ]
  },
  {
   "cell_type": "markdown",
   "metadata": {
    "slideshow": {
     "slide_type": "slide"
    }
   },
   "source": [
    "# Summary\n",
    "\n",
    "- We have successfully used the Metropolis-Hastings algorithm to simulate the\n",
    "  two-dimensional Ising model.\n",
    "    \n",
    "- The local update of a spin is fast but generates long correlation length.\n",
    "\n",
    "- This leads to wrong estimates of the error bars with the naive formula.\n",
    "\n",
    "- We will see how to compute error bars and good estimators.\n",
    "\n",
    "- Note that there are many other efficient MCMC algorithms for the Ising model,\n",
    "  e.g. cluster algorithms."
   ]
  },
  {
   "cell_type": "markdown",
   "metadata": {
    "slideshow": {
     "slide_type": "slide"
    }
   },
   "source": [
    "# Outline\n",
    "    \n",
    "- [Introduction to Monte Carlo](01-intro_monte_carlo.slides.html)\n",
    "\n",
    "- [Newton–Cotes quadrature](02-newton_cotes.slides.html)\n",
    "  \n",
    "- [Importance sampling](03-importance_sampling.slides.html)\n",
    "\n",
    "- [Direct sampling methods](04-direct_sampling.slides.html)\n",
    "\n",
    "- [Markov chain sampling and balance condition](05-markov_chain.slides.html)\n",
    "\n",
    "- [Metropolis-Hastings algorithm](06-metropolis_hastings.slides.html)\n",
    "\n",
    "- [The two-dimensional Ising model](07-ising.slides.html)\n",
    "\n",
    "- [Error bar analysis](08-error_analysis.slides.html)\n",
    "  \n",
    "- [References](09-references.slides.html)"
   ]
  }
 ],
 "metadata": {
  "kernelspec": {
   "display_name": "Python 3 (ipykernel)",
   "language": "python",
   "name": "python3"
  },
  "language_info": {
   "codemirror_mode": {
    "name": "ipython",
    "version": 3
   },
   "file_extension": ".py",
   "mimetype": "text/x-python",
   "name": "python",
   "nbconvert_exporter": "python",
   "pygments_lexer": "ipython3",
   "version": "3.9.6"
  }
 },
 "nbformat": 4,
 "nbformat_minor": 4
}
